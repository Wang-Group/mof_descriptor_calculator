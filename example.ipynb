{
 "cells": [
  {
   "cell_type": "code",
   "execution_count": 1,
   "id": "a0bc8611-bf9c-465a-8ad3-fb816a5ca1b1",
   "metadata": {},
   "outputs": [],
   "source": [
    "import mof_descriptor_calculator as mof_d\n",
    "import pandas as pd\n",
    "import os"
   ]
  },
  {
   "cell_type": "code",
   "execution_count": 2,
   "id": "ceff065b-d759-41b3-89ec-843e9248f529",
   "metadata": {},
   "outputs": [],
   "source": [
    "cifs = [i for i in os.listdir(\"./cifs_14MOFs/\") if i.endswith(\"cif\")]"
   ]
  },
  {
   "cell_type": "code",
   "execution_count": null,
   "id": "ed78f08c-ba84-4c96-affe-91f540993b8a",
   "metadata": {
    "scrolled": true
   },
   "outputs": [],
   "source": [
    "zeo_path = \"../zeo++-0.3/network\" # path to the zeo++-0.3 package\n",
    "failed = []\n",
    "for cif_file in cifs:\n",
    "    try:\n",
    "        mof_d.RAC.calculate_RAC(cif_file = cif_file)\n",
    "        test = mof_d.ZEO.run_zeo(cif_file = cif_file, zeo_path= zeo_path)\n",
    "    except:\n",
    "        failed.append(cif_file)\n",
    "        continue"
   ]
  },
  {
   "cell_type": "code",
   "execution_count": null,
   "id": "35f2303e-6ef6-4961-bd99-bed6f6f87b61",
   "metadata": {},
   "outputs": [],
   "source": []
  }
 ],
 "metadata": {
  "kernelspec": {
   "display_name": "Python 3 (ipykernel)",
   "language": "python",
   "name": "python3"
  },
  "language_info": {
   "codemirror_mode": {
    "name": "ipython",
    "version": 3
   },
   "file_extension": ".py",
   "mimetype": "text/x-python",
   "name": "python",
   "nbconvert_exporter": "python",
   "pygments_lexer": "ipython3",
   "version": "3.11.5"
  }
 },
 "nbformat": 4,
 "nbformat_minor": 5
}
